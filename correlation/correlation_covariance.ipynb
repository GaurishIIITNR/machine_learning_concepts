{
  "nbformat": 4,
  "nbformat_minor": 0,
  "metadata": {
    "colab": {
      "name": "correlation_covariance.ipynb",
      "provenance": [],
      "collapsed_sections": []
    },
    "kernelspec": {
      "name": "python3",
      "display_name": "Python 3"
    },
    "language_info": {
      "name": "python"
    }
  },
  "cells": [
    {
      "cell_type": "code",
      "execution_count": 58,
      "metadata": {
        "id": "Q1ugWPqc_L3w"
      },
      "outputs": [],
      "source": [
        "import numpy as np\n",
        "import seaborn as sns\n",
        "import sklearn \n",
        "import pandas as pd\n",
        "import matplotlib.pyplot as plt"
      ]
    },
    {
      "cell_type": "code",
      "source": [
        "# from sklearn.datasets import load_iris\n",
        "# data=load_iris()\n",
        "# data=np.array(data)\n",
        "# data=pd.DataFrame(data)"
      ],
      "metadata": {
        "id": "PR0WBMAB_c9W"
      },
      "execution_count": null,
      "outputs": []
    },
    {
      "cell_type": "code",
      "source": [
        "data=sns.load_dataset('iris')"
      ],
      "metadata": {
        "id": "rS40uTw2_4Dh"
      },
      "execution_count": 13,
      "outputs": []
    },
    {
      "cell_type": "code",
      "source": [
        "data.head()"
      ],
      "metadata": {
        "colab": {
          "base_uri": "https://localhost:8080/",
          "height": 206
        },
        "id": "wz99N8ovAGoV",
        "outputId": "ecaa4fb3-7142-4ff5-bdd5-73a241e5b3aa"
      },
      "execution_count": 15,
      "outputs": [
        {
          "output_type": "execute_result",
          "data": {
            "text/plain": [
              "   sepal_length  sepal_width  petal_length  petal_width species\n",
              "0           5.1          3.5           1.4          0.2  setosa\n",
              "1           4.9          3.0           1.4          0.2  setosa\n",
              "2           4.7          3.2           1.3          0.2  setosa\n",
              "3           4.6          3.1           1.5          0.2  setosa\n",
              "4           5.0          3.6           1.4          0.2  setosa"
            ],
            "text/html": [
              "\n",
              "  <div id=\"df-0e093e8e-9d61-4a78-8aaa-54c93b79c6d5\">\n",
              "    <div class=\"colab-df-container\">\n",
              "      <div>\n",
              "<style scoped>\n",
              "    .dataframe tbody tr th:only-of-type {\n",
              "        vertical-align: middle;\n",
              "    }\n",
              "\n",
              "    .dataframe tbody tr th {\n",
              "        vertical-align: top;\n",
              "    }\n",
              "\n",
              "    .dataframe thead th {\n",
              "        text-align: right;\n",
              "    }\n",
              "</style>\n",
              "<table border=\"1\" class=\"dataframe\">\n",
              "  <thead>\n",
              "    <tr style=\"text-align: right;\">\n",
              "      <th></th>\n",
              "      <th>sepal_length</th>\n",
              "      <th>sepal_width</th>\n",
              "      <th>petal_length</th>\n",
              "      <th>petal_width</th>\n",
              "      <th>species</th>\n",
              "    </tr>\n",
              "  </thead>\n",
              "  <tbody>\n",
              "    <tr>\n",
              "      <th>0</th>\n",
              "      <td>5.1</td>\n",
              "      <td>3.5</td>\n",
              "      <td>1.4</td>\n",
              "      <td>0.2</td>\n",
              "      <td>setosa</td>\n",
              "    </tr>\n",
              "    <tr>\n",
              "      <th>1</th>\n",
              "      <td>4.9</td>\n",
              "      <td>3.0</td>\n",
              "      <td>1.4</td>\n",
              "      <td>0.2</td>\n",
              "      <td>setosa</td>\n",
              "    </tr>\n",
              "    <tr>\n",
              "      <th>2</th>\n",
              "      <td>4.7</td>\n",
              "      <td>3.2</td>\n",
              "      <td>1.3</td>\n",
              "      <td>0.2</td>\n",
              "      <td>setosa</td>\n",
              "    </tr>\n",
              "    <tr>\n",
              "      <th>3</th>\n",
              "      <td>4.6</td>\n",
              "      <td>3.1</td>\n",
              "      <td>1.5</td>\n",
              "      <td>0.2</td>\n",
              "      <td>setosa</td>\n",
              "    </tr>\n",
              "    <tr>\n",
              "      <th>4</th>\n",
              "      <td>5.0</td>\n",
              "      <td>3.6</td>\n",
              "      <td>1.4</td>\n",
              "      <td>0.2</td>\n",
              "      <td>setosa</td>\n",
              "    </tr>\n",
              "  </tbody>\n",
              "</table>\n",
              "</div>\n",
              "      <button class=\"colab-df-convert\" onclick=\"convertToInteractive('df-0e093e8e-9d61-4a78-8aaa-54c93b79c6d5')\"\n",
              "              title=\"Convert this dataframe to an interactive table.\"\n",
              "              style=\"display:none;\">\n",
              "        \n",
              "  <svg xmlns=\"http://www.w3.org/2000/svg\" height=\"24px\"viewBox=\"0 0 24 24\"\n",
              "       width=\"24px\">\n",
              "    <path d=\"M0 0h24v24H0V0z\" fill=\"none\"/>\n",
              "    <path d=\"M18.56 5.44l.94 2.06.94-2.06 2.06-.94-2.06-.94-.94-2.06-.94 2.06-2.06.94zm-11 1L8.5 8.5l.94-2.06 2.06-.94-2.06-.94L8.5 2.5l-.94 2.06-2.06.94zm10 10l.94 2.06.94-2.06 2.06-.94-2.06-.94-.94-2.06-.94 2.06-2.06.94z\"/><path d=\"M17.41 7.96l-1.37-1.37c-.4-.4-.92-.59-1.43-.59-.52 0-1.04.2-1.43.59L10.3 9.45l-7.72 7.72c-.78.78-.78 2.05 0 2.83L4 21.41c.39.39.9.59 1.41.59.51 0 1.02-.2 1.41-.59l7.78-7.78 2.81-2.81c.8-.78.8-2.07 0-2.86zM5.41 20L4 18.59l7.72-7.72 1.47 1.35L5.41 20z\"/>\n",
              "  </svg>\n",
              "      </button>\n",
              "      \n",
              "  <style>\n",
              "    .colab-df-container {\n",
              "      display:flex;\n",
              "      flex-wrap:wrap;\n",
              "      gap: 12px;\n",
              "    }\n",
              "\n",
              "    .colab-df-convert {\n",
              "      background-color: #E8F0FE;\n",
              "      border: none;\n",
              "      border-radius: 50%;\n",
              "      cursor: pointer;\n",
              "      display: none;\n",
              "      fill: #1967D2;\n",
              "      height: 32px;\n",
              "      padding: 0 0 0 0;\n",
              "      width: 32px;\n",
              "    }\n",
              "\n",
              "    .colab-df-convert:hover {\n",
              "      background-color: #E2EBFA;\n",
              "      box-shadow: 0px 1px 2px rgba(60, 64, 67, 0.3), 0px 1px 3px 1px rgba(60, 64, 67, 0.15);\n",
              "      fill: #174EA6;\n",
              "    }\n",
              "\n",
              "    [theme=dark] .colab-df-convert {\n",
              "      background-color: #3B4455;\n",
              "      fill: #D2E3FC;\n",
              "    }\n",
              "\n",
              "    [theme=dark] .colab-df-convert:hover {\n",
              "      background-color: #434B5C;\n",
              "      box-shadow: 0px 1px 3px 1px rgba(0, 0, 0, 0.15);\n",
              "      filter: drop-shadow(0px 1px 2px rgba(0, 0, 0, 0.3));\n",
              "      fill: #FFFFFF;\n",
              "    }\n",
              "  </style>\n",
              "\n",
              "      <script>\n",
              "        const buttonEl =\n",
              "          document.querySelector('#df-0e093e8e-9d61-4a78-8aaa-54c93b79c6d5 button.colab-df-convert');\n",
              "        buttonEl.style.display =\n",
              "          google.colab.kernel.accessAllowed ? 'block' : 'none';\n",
              "\n",
              "        async function convertToInteractive(key) {\n",
              "          const element = document.querySelector('#df-0e093e8e-9d61-4a78-8aaa-54c93b79c6d5');\n",
              "          const dataTable =\n",
              "            await google.colab.kernel.invokeFunction('convertToInteractive',\n",
              "                                                     [key], {});\n",
              "          if (!dataTable) return;\n",
              "\n",
              "          const docLinkHtml = 'Like what you see? Visit the ' +\n",
              "            '<a target=\"_blank\" href=https://colab.research.google.com/notebooks/data_table.ipynb>data table notebook</a>'\n",
              "            + ' to learn more about interactive tables.';\n",
              "          element.innerHTML = '';\n",
              "          dataTable['output_type'] = 'display_data';\n",
              "          await google.colab.output.renderOutput(dataTable, element);\n",
              "          const docLink = document.createElement('div');\n",
              "          docLink.innerHTML = docLinkHtml;\n",
              "          element.appendChild(docLink);\n",
              "        }\n",
              "      </script>\n",
              "    </div>\n",
              "  </div>\n",
              "  "
            ]
          },
          "metadata": {},
          "execution_count": 15
        }
      ]
    },
    {
      "cell_type": "markdown",
      "source": [
        "# CORRELATION"
      ],
      "metadata": {
        "id": "zjuu00gpA7IU"
      }
    },
    {
      "cell_type": "code",
      "source": [
        "# calculating means\n",
        "mean1=data['sepal_length'].mean()\n",
        "mean2=data['sepal_width'].mean()"
      ],
      "metadata": {
        "colab": {
          "base_uri": "https://localhost:8080/"
        },
        "id": "sFJD6k5xAIfu",
        "outputId": "b4023c4a-c6e2-4c90-c87f-abb1fb648081"
      },
      "execution_count": 24,
      "outputs": [
        {
          "output_type": "execute_result",
          "data": {
            "text/plain": [
              "5.843333333333335"
            ]
          },
          "metadata": {},
          "execution_count": 24
        }
      ]
    },
    {
      "cell_type": "code",
      "source": [
        "# preparing the data between which correlation needs to be founded\n",
        "lst1=list(data['sepal_length'])\n",
        "lst2=list(data['sepal_width'])"
      ],
      "metadata": {
        "colab": {
          "base_uri": "https://localhost:8080/"
        },
        "id": "i0nVGiJuBjbv",
        "outputId": "706b1aff-e316-47c4-d8b2-e203ddec81ce"
      },
      "execution_count": 26,
      "outputs": [
        {
          "output_type": "stream",
          "name": "stdout",
          "text": [
            "102.16833333333332\n"
          ]
        }
      ]
    },
    {
      "cell_type": "markdown",
      "source": [
        "**COVARIANCE**"
      ],
      "metadata": {
        "id": "EXK5vnlEPjRi"
      }
    },
    {
      "cell_type": "code",
      "source": [
        "\n",
        "sum2=0\n",
        "for i in range(0,len(lst1)):\n",
        "  sum2=sum2 +(lst1[i]-mean1)*(lst2[i]-mean2)\n",
        "# finding covariance manually\n",
        "covar=(sum2)/(len(lst1)-1)\n",
        "print(covar)"
      ],
      "metadata": {
        "colab": {
          "base_uri": "https://localhost:8080/"
        },
        "id": "4gfpDDisB6CE",
        "outputId": "be2353a6-0f33-4e3c-c185-73d63617b9ab"
      },
      "execution_count": 42,
      "outputs": [
        {
          "output_type": "stream",
          "name": "stdout",
          "text": [
            "-6.322666666666663\n"
          ]
        }
      ]
    },
    {
      "cell_type": "code",
      "source": [
        "# finding covariance using inbuilt function\n",
        "d=np.cov(lst1,lst2)\n",
        "d\n",
        "# hence covariance is -0.042434"
      ],
      "metadata": {
        "colab": {
          "base_uri": "https://localhost:8080/"
        },
        "id": "MtYdPv_RDdRq",
        "outputId": "5a471406-9931-4e35-b178-1755b7552b62"
      },
      "execution_count": 38,
      "outputs": [
        {
          "output_type": "execute_result",
          "data": {
            "text/plain": [
              "array([[ 0.68569351, -0.042434  ],\n",
              "       [-0.042434  ,  0.18997942]])"
            ]
          },
          "metadata": {},
          "execution_count": 38
        }
      ]
    },
    {
      "cell_type": "markdown",
      "source": [
        "# FINDING PEARSON CORRELATION\n",
        "By default df.corr() uses pearson correlation to calculate the correlation\n",
        "![Screenshot 2022-06-13 142451.png](data:image/png;base64,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)"
      ],
      "metadata": {
        "id": "PU3_OjZNP6pw"
      }
    },
    {
      "cell_type": "code",
      "source": [
        "from numpy.core.fromnumeric import std\n",
        "# pearson correlation\n",
        "std1=std(lst1)\n",
        "std2=std(lst2)\n",
        "pearson_correlation=covar/(std1*std2)\n",
        "pearson_correlation\n"
      ],
      "metadata": {
        "colab": {
          "base_uri": "https://localhost:8080/"
        },
        "id": "DTVO0CcrBPJN",
        "outputId": "4d5790cc-26e4-4a6c-9a8c-ed06109f8f5a"
      },
      "execution_count": 44,
      "outputs": [
        {
          "output_type": "execute_result",
          "data": {
            "text/plain": [
              "0.8253012917851409"
            ]
          },
          "metadata": {},
          "execution_count": 44
        }
      ]
    },
    {
      "cell_type": "markdown",
      "source": [
        "# Spearman correlation\n",
        "![image.png](data:image/png;base64,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)"
      ],
      "metadata": {
        "id": "KX__SWyDRryQ"
      }
    },
    {
      "cell_type": "code",
      "source": [
        "# calculating spearman's correlation\n",
        "# this will use the rank of that particular data \n",
        "from scipy.stats import spearmanr\n",
        "corrrr=spearmanr(lst1,lst2)\n",
        "print(corrrr)"
      ],
      "metadata": {
        "colab": {
          "base_uri": "https://localhost:8080/"
        },
        "id": "XArtSORNDTp1",
        "outputId": "f5c81e92-acf2-4a4b-8eca-b4fafd854b52"
      },
      "execution_count": 47,
      "outputs": [
        {
          "output_type": "execute_result",
          "data": {
            "text/plain": [
              "-0.11835884308691474"
            ]
          },
          "metadata": {},
          "execution_count": 47
        }
      ]
    },
    {
      "cell_type": "code",
      "source": [
        "# lets calculate the correlation through inbuilt function\n",
        "data.corr(method='pearson')"
      ],
      "metadata": {
        "colab": {
          "base_uri": "https://localhost:8080/",
          "height": 175
        },
        "id": "EV1MOFZHDVf_",
        "outputId": "3ee1be99-4263-4b77-8c77-ba2f1800df16"
      },
      "execution_count": 53,
      "outputs": [
        {
          "output_type": "execute_result",
          "data": {
            "text/plain": [
              "              sepal_length  sepal_width  petal_length  petal_width\n",
              "sepal_length      1.000000    -0.117570      0.871754     0.817941\n",
              "sepal_width      -0.117570     1.000000     -0.428440    -0.366126\n",
              "petal_length      0.871754    -0.428440      1.000000     0.962865\n",
              "petal_width       0.817941    -0.366126      0.962865     1.000000"
            ],
            "text/html": [
              "\n",
              "  <div id=\"df-16633c51-61b5-4bde-a854-857f6f667514\">\n",
              "    <div class=\"colab-df-container\">\n",
              "      <div>\n",
              "<style scoped>\n",
              "    .dataframe tbody tr th:only-of-type {\n",
              "        vertical-align: middle;\n",
              "    }\n",
              "\n",
              "    .dataframe tbody tr th {\n",
              "        vertical-align: top;\n",
              "    }\n",
              "\n",
              "    .dataframe thead th {\n",
              "        text-align: right;\n",
              "    }\n",
              "</style>\n",
              "<table border=\"1\" class=\"dataframe\">\n",
              "  <thead>\n",
              "    <tr style=\"text-align: right;\">\n",
              "      <th></th>\n",
              "      <th>sepal_length</th>\n",
              "      <th>sepal_width</th>\n",
              "      <th>petal_length</th>\n",
              "      <th>petal_width</th>\n",
              "    </tr>\n",
              "  </thead>\n",
              "  <tbody>\n",
              "    <tr>\n",
              "      <th>sepal_length</th>\n",
              "      <td>1.000000</td>\n",
              "      <td>-0.117570</td>\n",
              "      <td>0.871754</td>\n",
              "      <td>0.817941</td>\n",
              "    </tr>\n",
              "    <tr>\n",
              "      <th>sepal_width</th>\n",
              "      <td>-0.117570</td>\n",
              "      <td>1.000000</td>\n",
              "      <td>-0.428440</td>\n",
              "      <td>-0.366126</td>\n",
              "    </tr>\n",
              "    <tr>\n",
              "      <th>petal_length</th>\n",
              "      <td>0.871754</td>\n",
              "      <td>-0.428440</td>\n",
              "      <td>1.000000</td>\n",
              "      <td>0.962865</td>\n",
              "    </tr>\n",
              "    <tr>\n",
              "      <th>petal_width</th>\n",
              "      <td>0.817941</td>\n",
              "      <td>-0.366126</td>\n",
              "      <td>0.962865</td>\n",
              "      <td>1.000000</td>\n",
              "    </tr>\n",
              "  </tbody>\n",
              "</table>\n",
              "</div>\n",
              "      <button class=\"colab-df-convert\" onclick=\"convertToInteractive('df-16633c51-61b5-4bde-a854-857f6f667514')\"\n",
              "              title=\"Convert this dataframe to an interactive table.\"\n",
              "              style=\"display:none;\">\n",
              "        \n",
              "  <svg xmlns=\"http://www.w3.org/2000/svg\" height=\"24px\"viewBox=\"0 0 24 24\"\n",
              "       width=\"24px\">\n",
              "    <path d=\"M0 0h24v24H0V0z\" fill=\"none\"/>\n",
              "    <path d=\"M18.56 5.44l.94 2.06.94-2.06 2.06-.94-2.06-.94-.94-2.06-.94 2.06-2.06.94zm-11 1L8.5 8.5l.94-2.06 2.06-.94-2.06-.94L8.5 2.5l-.94 2.06-2.06.94zm10 10l.94 2.06.94-2.06 2.06-.94-2.06-.94-.94-2.06-.94 2.06-2.06.94z\"/><path d=\"M17.41 7.96l-1.37-1.37c-.4-.4-.92-.59-1.43-.59-.52 0-1.04.2-1.43.59L10.3 9.45l-7.72 7.72c-.78.78-.78 2.05 0 2.83L4 21.41c.39.39.9.59 1.41.59.51 0 1.02-.2 1.41-.59l7.78-7.78 2.81-2.81c.8-.78.8-2.07 0-2.86zM5.41 20L4 18.59l7.72-7.72 1.47 1.35L5.41 20z\"/>\n",
              "  </svg>\n",
              "      </button>\n",
              "      \n",
              "  <style>\n",
              "    .colab-df-container {\n",
              "      display:flex;\n",
              "      flex-wrap:wrap;\n",
              "      gap: 12px;\n",
              "    }\n",
              "\n",
              "    .colab-df-convert {\n",
              "      background-color: #E8F0FE;\n",
              "      border: none;\n",
              "      border-radius: 50%;\n",
              "      cursor: pointer;\n",
              "      display: none;\n",
              "      fill: #1967D2;\n",
              "      height: 32px;\n",
              "      padding: 0 0 0 0;\n",
              "      width: 32px;\n",
              "    }\n",
              "\n",
              "    .colab-df-convert:hover {\n",
              "      background-color: #E2EBFA;\n",
              "      box-shadow: 0px 1px 2px rgba(60, 64, 67, 0.3), 0px 1px 3px 1px rgba(60, 64, 67, 0.15);\n",
              "      fill: #174EA6;\n",
              "    }\n",
              "\n",
              "    [theme=dark] .colab-df-convert {\n",
              "      background-color: #3B4455;\n",
              "      fill: #D2E3FC;\n",
              "    }\n",
              "\n",
              "    [theme=dark] .colab-df-convert:hover {\n",
              "      background-color: #434B5C;\n",
              "      box-shadow: 0px 1px 3px 1px rgba(0, 0, 0, 0.15);\n",
              "      filter: drop-shadow(0px 1px 2px rgba(0, 0, 0, 0.3));\n",
              "      fill: #FFFFFF;\n",
              "    }\n",
              "  </style>\n",
              "\n",
              "      <script>\n",
              "        const buttonEl =\n",
              "          document.querySelector('#df-16633c51-61b5-4bde-a854-857f6f667514 button.colab-df-convert');\n",
              "        buttonEl.style.display =\n",
              "          google.colab.kernel.accessAllowed ? 'block' : 'none';\n",
              "\n",
              "        async function convertToInteractive(key) {\n",
              "          const element = document.querySelector('#df-16633c51-61b5-4bde-a854-857f6f667514');\n",
              "          const dataTable =\n",
              "            await google.colab.kernel.invokeFunction('convertToInteractive',\n",
              "                                                     [key], {});\n",
              "          if (!dataTable) return;\n",
              "\n",
              "          const docLinkHtml = 'Like what you see? Visit the ' +\n",
              "            '<a target=\"_blank\" href=https://colab.research.google.com/notebooks/data_table.ipynb>data table notebook</a>'\n",
              "            + ' to learn more about interactive tables.';\n",
              "          element.innerHTML = '';\n",
              "          dataTable['output_type'] = 'display_data';\n",
              "          await google.colab.output.renderOutput(dataTable, element);\n",
              "          const docLink = document.createElement('div');\n",
              "          docLink.innerHTML = docLinkHtml;\n",
              "          element.appendChild(docLink);\n",
              "        }\n",
              "      </script>\n",
              "    </div>\n",
              "  </div>\n",
              "  "
            ]
          },
          "metadata": {},
          "execution_count": 53
        }
      ]
    },
    {
      "cell_type": "code",
      "source": [
        "sns.set()"
      ],
      "metadata": {
        "id": "qhAMLfPIFJ7F"
      },
      "execution_count": 59,
      "outputs": []
    },
    {
      "cell_type": "markdown",
      "source": [
        "# POSITIVE CORRELATION"
      ],
      "metadata": {
        "id": "J198n_9aIAef"
      }
    },
    {
      "cell_type": "code",
      "source": [
        "sns.relplot(data=data,x='sepal_length',y='petal_width',kind='line')"
      ],
      "metadata": {
        "colab": {
          "base_uri": "https://localhost:8080/",
          "height": 383
        },
        "id": "RNyAhbkqHwUm",
        "outputId": "cfbfc56b-f7e8-4f8d-f062-5bc7d5d0c02b"
      },
      "execution_count": 60,
      "outputs": [
        {
          "output_type": "execute_result",
          "data": {
            "text/plain": [
              "<seaborn.axisgrid.FacetGrid at 0x7fada04f6d10>"
            ]
          },
          "metadata": {},
          "execution_count": 60
        },
        {
          "output_type": "display_data",
          "data": {
            "text/plain": [
              "<Figure size 360x360 with 1 Axes>"
            ],
            "image/png": "[encoded data removed]"
          },
          "metadata": {}
        }
      ]
    },
    {
      "cell_type": "markdown",
      "source": [
        "here we can observe that both increase simultaneusly,hence depicting their positive correlation"
      ],
      "metadata": {
        "id": "HX3IR_4lIPYn"
      }
    },
    {
      "cell_type": "markdown",
      "source": [
        "# NEGATIVE CORRELATION"
      ],
      "metadata": {
        "id": "diz_oTUfOnov"
      }
    },
    {
      "cell_type": "code",
      "source": [
        "sns.relplot(data=data,x='sepal_width',y='petal_width',kind='line')"
      ],
      "metadata": {
        "colab": {
          "base_uri": "https://localhost:8080/",
          "height": 383
        },
        "id": "Ejca63sTIMt4",
        "outputId": "b8754196-7f4f-4235-a3a8-f7beb8727a5b"
      },
      "execution_count": 61,
      "outputs": [
        {
          "output_type": "execute_result",
          "data": {
            "text/plain": [
              "<seaborn.axisgrid.FacetGrid at 0x7fad9e4e73d0>"
            ]
          },
          "metadata": {},
          "execution_count": 61
        },
        {
          "output_type": "display_data",
          "data": {
            "text/plain": [
              "<Figure size 360x360 with 1 Axes>"
            ],
            "image/png": "[encoded data removed]"
          },
          "metadata": {}
        }
      ]
    },
    {
      "cell_type": "markdown",
      "source": [
        "here we can observe that both decrease simultaneusly,hence depicting their negative correlation"
      ],
      "metadata": {
        "id": "pLiVynkpO2Pv"
      }
    },
    {
      "cell_type": "code",
      "source": [
        "# their also exist zero correlation when two variable are independent of each other\n"
      ],
      "metadata": {
        "id": "sDZg-BG8Oylw"
      },
      "execution_count": null,
      "outputs": []
    },
    {
      "cell_type": "code",
      "source": [
        ""
      ],
      "metadata": {
        "id": "GwuQPbY2PLUI"
      },
      "execution_count": null,
      "outputs": []
    }
  ]
}